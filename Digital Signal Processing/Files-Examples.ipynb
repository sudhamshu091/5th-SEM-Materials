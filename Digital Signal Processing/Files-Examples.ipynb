{
 "cells": [
  {
   "cell_type": "code",
   "execution_count": 26,
   "metadata": {},
   "outputs": [
    {
     "name": "stdout",
     "output_type": "stream",
     "text": [
      "File Name:  sudanshu.txt\n",
      "File Mode:  w\n",
      "Is File Readable:  False\n",
      "Is File Writable:  True\n",
      "Is File Closed :  False\n",
      "Is File Closed :  True\n"
     ]
    }
   ],
   "source": [
    "f=open(\"sudanshu.txt\",'w')\n",
    "print(\"File Name: \",f.name)\n",
    "print(\"File Mode: \",f.mode)\n",
    "print(\"Is File Readable: \",f.readable())\n",
    "print(\"Is File Writable: \",f.writable())\n",
    "print(\"Is File Closed : \",f.closed)\n",
    "f.close()\n",
    "print(\"Is File Closed : \",f.closed)"
   ]
  },
  {
   "cell_type": "code",
   "execution_count": 28,
   "metadata": {},
   "outputs": [
    {
     "name": "stdout",
     "output_type": "stream",
     "text": [
      "Sudanshu belongs to 5B\n",
      "there are 50 students in the class\n",
      "but many will not turn up\n",
      "they may get shortage of attendance\n",
      "we appreciate those who are active\n"
     ]
    }
   ],
   "source": [
    "f=open(\"sudanshu.txt\",'r')\n",
    "data=f.read()\n",
    "print(data)\n",
    "f.close()"
   ]
  },
  {
   "cell_type": "code",
   "execution_count": 29,
   "metadata": {},
   "outputs": [
    {
     "name": "stdout",
     "output_type": "stream",
     "text": [
      "Sudanshu belongs to \n"
     ]
    }
   ],
   "source": [
    "f=open(\"sudanshu.txt\",'r')\n",
    "data=f.read(20)\n",
    "print(data)\n",
    "f.close()"
   ]
  },
  {
   "cell_type": "code",
   "execution_count": 34,
   "metadata": {},
   "outputs": [
    {
     "name": "stdout",
     "output_type": "stream",
     "text": [
      "Sud\n",
      "anshu belongs to 5B\n",
      "\n",
      "ther\n",
      "Remaining data\n",
      "e are 50 students in the class\n",
      "but many will not turn up\n",
      "they may get shortage of attendance\n",
      "we appreciate those who are active\n"
     ]
    }
   ],
   "source": [
    "f=open(\"sudanshu.txt\",\"r\")\n",
    "print(f.read(3))\n",
    "print(f.readline())\n",
    "print(f.read(4))\n",
    "print(\"Remaining data\")\n",
    "print(f.read())\n",
    "f.close()"
   ]
  },
  {
   "cell_type": "code",
   "execution_count": 3,
   "metadata": {},
   "outputs": [
    {
     "name": "stdout",
     "output_type": "stream",
     "text": [
      "Sudanshu belongs to 5B\n",
      "there are 50 students in the class\n",
      "but many will not turn up\n"
     ]
    }
   ],
   "source": [
    "f=open(\"sudanshu.txt\",'r')\n",
    "line1=f.readline()\n",
    "print(line1,end='')\n",
    "line2=f.readline()\n",
    "print(line2,end='')\n",
    "line3=f.readline()\n",
    "print(line3,end='')\n",
    "f.close()"
   ]
  },
  {
   "cell_type": "code",
   "execution_count": 5,
   "metadata": {},
   "outputs": [
    {
     "name": "stdout",
     "output_type": "stream",
     "text": [
      "Sudanshu belongs to 5B\n",
      "there are 50 students in the class\n",
      "but many will not turn up\n",
      "they may get shortage of attendance\n",
      "we appreciate those who are active"
     ]
    }
   ],
   "source": [
    "f=open(\"sudanshu.txt\",'r')\n",
    "lines=f.readlines()\n",
    "for i in lines:\n",
    "    print(i,end='')\n",
    "f.close()"
   ]
  },
  {
   "cell_type": "code",
   "execution_count": 7,
   "metadata": {},
   "outputs": [],
   "source": [
    "f=open(\"sudanshu.txt\",'w')\n",
    "f.write(\"abcd\\t\")\n",
    "f.write(\"in\\t\")\n",
    "f.write(\"alphabets\\n\")\n",
    "#print(\"Data written to the file successfully\")\n",
    "f.close()"
   ]
  },
  {
   "cell_type": "code",
   "execution_count": 9,
   "metadata": {},
   "outputs": [
    {
     "name": "stdout",
     "output_type": "stream",
     "text": [
      "abcd\tin\talphabets\n",
      "\n"
     ]
    }
   ],
   "source": [
    "f=open('sudanshu.txt','r')\n",
    "print(f.read())"
   ]
  },
  {
   "cell_type": "code",
   "execution_count": 10,
   "metadata": {},
   "outputs": [],
   "source": [
    "f=open(\"sudanshu.txt\",'a')\n",
    "f.write(\"Management\\t\")\n",
    "f.write(\"DCS\\t\")\n",
    "f.write(\"DSP\\n\")\n",
    "#print(\"Data written to the file successfully\")\n",
    "f.close()"
   ]
  },
  {
   "cell_type": "code",
   "execution_count": 11,
   "metadata": {},
   "outputs": [
    {
     "name": "stdout",
     "output_type": "stream",
     "text": [
      "abcd\tin\talphabets\n",
      "Management\tDCS\tDSP\n",
      "\n"
     ]
    }
   ],
   "source": [
    "f=open('sudanshu.txt','r')\n",
    "print(f.read())"
   ]
  },
  {
   "cell_type": "code",
   "execution_count": 14,
   "metadata": {},
   "outputs": [
    {
     "name": "stdout",
     "output_type": "stream",
     "text": [
      "List of lines written to the file successfully\n"
     ]
    }
   ],
   "source": [
    "f=open(\"sudanshu.txt\",'w')\n",
    "list=[\"today\\n\",\"is\\n\",\"wednesday\\n\",\"ESD\"]\n",
    "f.writelines(list)\n",
    "print(\"List of lines written to the file successfully\")\n",
    "f.close()"
   ]
  },
  {
   "cell_type": "code",
   "execution_count": 15,
   "metadata": {},
   "outputs": [
    {
     "name": "stdout",
     "output_type": "stream",
     "text": [
      "today\n",
      "is\n",
      "wednesday\n",
      "ESD\n"
     ]
    }
   ],
   "source": [
    "f=open('sudanshu.txt','r')\n",
    "print(f.read())"
   ]
  },
  {
   "cell_type": "code",
   "execution_count": 22,
   "metadata": {},
   "outputs": [
    {
     "name": "stdout",
     "output_type": "stream",
     "text": [
      "Is File Closed:  False\n",
      "Is File Closed:  True\n"
     ]
    }
   ],
   "source": [
    "#when we use with it automatically closes the file after indentation closed\n",
    "with open(\"ex5.txt\",\"w\") as f:\n",
    "    f.write(\"banglore\\n\")\n",
    "    f.write(\"mumbi\\n\")\n",
    "    f.write(\"delhi\\n\")\n",
    "    print(\"Is File Closed: \",f.closed)\n",
    "print(\"Is File Closed: \",f.closed)"
   ]
  },
  {
   "cell_type": "code",
   "execution_count": 16,
   "metadata": {},
   "outputs": [
    {
     "name": "stdout",
     "output_type": "stream",
     "text": [
      "today\n",
      "is\n",
      "wednesday\n",
      "ESD\n"
     ]
    }
   ],
   "source": [
    "f=open('sudanshu.txt','r')\n",
    "print(f.read())"
   ]
  },
  {
   "cell_type": "code",
   "execution_count": 18,
   "metadata": {},
   "outputs": [
    {
     "name": "stdout",
     "output_type": "stream",
     "text": [
      "0\n",
      "to\n",
      "2\n",
      "day\n",
      "5\n",
      "2\n",
      "day\n",
      "is\n",
      "wed\n"
     ]
    }
   ],
   "source": [
    "#f.seek(offset, fromwhere)\n",
    "f=open(\"sudanshu.txt\",\"r\")\n",
    "print(f.tell())\n",
    "print(f.read(2))\n",
    "print(f.tell())\n",
    "print(f.read(3))\n",
    "print(f.tell())\n",
    "print(f.seek(2))\n",
    "print(f.read(10))"
   ]
  },
  {
   "cell_type": "code",
   "execution_count": 19,
   "metadata": {},
   "outputs": [
    {
     "name": "stdout",
     "output_type": "stream",
     "text": [
      "This chapter is file express\n",
      "The Current Cursor Position:  28\n",
      "The Current Cursor Position:  21\n",
      "Data After Modification:\n",
      "This chapter is file Handling\n",
      "check file closed?\n",
      " True\n"
     ]
    }
   ],
   "source": [
    "data=\"This chapter is file express\"\n",
    "f=open(\"sudanshu.txt\",\"w\")\n",
    "f.write(data)\n",
    "with open(\"sudanshu.txt\",\"r+\") as f:\n",
    "    print(f.read())\n",
    "    print(\"The Current Cursor Position: \",f.tell())\n",
    "    f.seek(21)\n",
    "    print(\"The Current Cursor Position: \",f.tell())\n",
    "    f.write(\"Handling\")\n",
    "    f.seek(0)\n",
    "    text=f.read()\n",
    "    print(\"Data After Modification:\")\n",
    "    print(text)\n",
    "print('check file closed?\\n',f.closed)"
   ]
  },
  {
   "cell_type": "code",
   "execution_count": 30,
   "metadata": {},
   "outputs": [
    {
     "name": "stdout",
     "output_type": "stream",
     "text": [
      "Enter File Name: ex5.txt\n",
      "File exists: ex5.txt\n",
      "The content of file is:\n",
      "banglore\n",
      "mumbi\n",
      "delhi\n",
      "\n"
     ]
    }
   ],
   "source": [
    "#to check a particular file exists or not?\n",
    "import os,sys\n",
    "fname=input(\"Enter File Name: \")\n",
    "if os.path.isfile(fname):\n",
    "    print(\"File exists:\",fname)\n",
    "    f=open(fname,\"r\")\n",
    "else:\n",
    "    print(\"File does not exist:\",fname)\n",
    "    sys.exit(0)\n",
    "print(\"The content of file is:\")\n",
    "data=f.read()\n",
    "print(data)"
   ]
  },
  {
   "cell_type": "code",
   "execution_count": 29,
   "metadata": {},
   "outputs": [
    {
     "name": "stdout",
     "output_type": "stream",
     "text": [
      "Enter File Name: ex5.txt\n",
      "File exists: ex5.txt\n",
      "The number of Lines: 3\n",
      "The number of Words: 3\n",
      "The number of Characters: 21\n"
     ]
    }
   ],
   "source": [
    "#Program to print the number of lines,words and characters present in the\n",
    "#given file?\n",
    "import os,sys\n",
    "fname=input(\"Enter File Name: \")\n",
    "if os.path.isfile(fname):\n",
    "    print(\"File exists:\",fname)\n",
    "    f=open(fname,\"r\")\n",
    "else:\n",
    "    print(\"File does not exist:\",fname)\n",
    "    sys.exit(0)\n",
    "lcount=wcount=ccount=0\n",
    "for line in f:\n",
    "    lcount=lcount+1\n",
    "    ccount=ccount+len(line)\n",
    "    words=line.split()\n",
    "    wcount=wcount+len(words)\n",
    "print(\"The number of Lines:\",lcount)\n",
    "print(\"The number of Words:\",wcount)\n",
    "print(\"The number of Characters:\",ccount)\n"
   ]
  },
  {
   "cell_type": "code",
   "execution_count": 60,
   "metadata": {},
   "outputs": [
    {
     "name": "stdout",
     "output_type": "stream",
     "text": [
      "New Image is available with the name: newpic.jpg\n"
     ]
    }
   ],
   "source": [
    "#Handling Binary Data:Program to read image file and write to a new image file?\n",
    "\n",
    "f1=open(\"flowers.jpg\",\"rb\")\n",
    "f2=open(\"whileflower.jpg\",\"wb\")\n",
    "#pic=f1.read()\n",
    "#f2.write(pic)\n",
    "f2.write(f1.read())\n",
    "print(\"New Image is available with the name: newflower.jpg\")"
   ]
  },
  {
   "cell_type": "code",
   "execution_count": 32,
   "metadata": {},
   "outputs": [
    {
     "name": "stdout",
     "output_type": "stream",
     "text": [
      "New Image is available with the name\n",
      "<_io.BufferedWriter name='whiteflower.jpg'>\n"
     ]
    }
   ],
   "source": [
    "#Handling Binary Data:Program to read image file and write to a new image file?\n",
    "\n",
    "f1=open(\"flowers.jpg\",\"rb\")\n",
    "f2=open(\"whiteflower.jpg\",\"wb\")\n",
    "pic=f1.read()\n",
    "f2.write(pic)\n",
    "#f2.write(f1.read())\n",
    "print(f\"New Image is available with the name\\n{f2}\")"
   ]
  },
  {
   "cell_type": "code",
   "execution_count": 37,
   "metadata": {},
   "outputs": [
    {
     "name": "stdout",
     "output_type": "stream",
     "text": [
      "Enter Number of Students:2\n",
      "Enter Student USN :1DS17EC001\n",
      "Enter Student Name:ANIL\n",
      "Enter Attendance:45\n",
      "Enter Marks:50\n",
      "Enter Student USN :1DS17EC002\n",
      "Enter Student Name:SUNIL\n",
      "Enter Attendance:43\n",
      "Enter Marks:35\n",
      "Total student marks written to csv file successfully\n"
     ]
    }
   ],
   "source": [
    "#CSV==>Comma seperated values\n",
    "\n",
    "import csv\n",
    "\n",
    "with open(\"stud_marks_attend.csv\",\"w\",newline='') as f:\n",
    "    w=csv.writer(f) # returns csv writer object\n",
    "    w.writerow([\"USN\",\"STUD NAME\",\"ATTENDANCE\",\"MARKS\"])\n",
    "    n=int(input(\"Enter Number of Students:\"))\n",
    "    for i in range(n):\n",
    "        usn=input(\"Enter Student USN :\")\n",
    "        studname=input(\"Enter Student Name:\")\n",
    "        attend=input(\"Enter Attendance:\")\n",
    "        marks=input(\"Enter Marks:\")\n",
    "        w.writerow([usn,studname,attend,marks])\n",
    "print(\"Total student marks written to csv file successfully\")"
   ]
  },
  {
   "cell_type": "code",
   "execution_count": 1,
   "metadata": {},
   "outputs": [
    {
     "name": "stdout",
     "output_type": "stream",
     "text": [
      "[]\n"
     ]
    }
   ],
   "source": [
    "#Reading Data from csv file:\n",
    "import csv\n",
    "f=open(\"stud_marks_attend.csv\",'r')\n",
    "r=csv.reader(f) #returns csv reader object\n",
    "data=list(r)\n",
    "print(data)\n",
    "for line in data:\n",
    "    for word in line:\n",
    "        print(word,\"\\t\",end='')\n",
    "    print()"
   ]
  },
  {
   "cell_type": "code",
   "execution_count": null,
   "metadata": {},
   "outputs": [],
   "source": [
    "#Zipping and Unzipping Files:\n"
   ]
  },
  {
   "cell_type": "code",
   "execution_count": 42,
   "metadata": {},
   "outputs": [],
   "source": [
    "#Remaning the file\n",
    "import os\n",
    "os.rename('ex5.txt','ex12.txt')"
   ]
  },
  {
   "cell_type": "code",
   "execution_count": 45,
   "metadata": {},
   "outputs": [
    {
     "name": "stdout",
     "output_type": "stream",
     "text": [
      "The file doesnot exsits\n"
     ]
    }
   ],
   "source": [
    "#Deleting the file\n",
    "import os\n",
    "if os.path.exists('ex12.txt'):\n",
    "    os.remove('ex12.txt')\n",
    "else:\n",
    "    print('The file doesnot exsits')"
   ]
  },
  {
   "cell_type": "code",
   "execution_count": 47,
   "metadata": {},
   "outputs": [],
   "source": [
    "#Write Python program to demonstrate the writing of data to a CSV file using DictWriter class\n",
    "#to a CSV file using DictWriter class\n",
    "import csv\n",
    "\n",
    "with open('names1.csv', 'w', newline='') as csvfile:\n",
    "    field_names = ['first_name', 'last_name']\n",
    "    writer = csv.DictWriter(csvfile, fieldnames=field_names)\n",
    "    writer.writeheader()\n",
    "    writer.writerow({'first_name': 'Baked', 'last_name': 'Beans'})\n",
    "    writer.writerow({'first_name': 'Lovely', 'last_name': 'Spam'})\n",
    "    writer.writerow({'first_name': 'Wonderful', 'last_name': 'Spam'})\n"
   ]
  }
 ],
 "metadata": {
  "kernelspec": {
   "display_name": "Python 3",
   "language": "python",
   "name": "python3"
  },
  "language_info": {
   "codemirror_mode": {
    "name": "ipython",
    "version": 3
   },
   "file_extension": ".py",
   "mimetype": "text/x-python",
   "name": "python",
   "nbconvert_exporter": "python",
   "pygments_lexer": "ipython3",
   "version": "3.7.4"
  }
 },
 "nbformat": 4,
 "nbformat_minor": 2
}
