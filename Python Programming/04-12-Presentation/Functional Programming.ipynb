{
 "cells": [
  {
   "cell_type": "markdown",
   "metadata": {
    "collapsed": true
   },
   "source": [
    "<h1>Functional Programming</h1>"
   ]
  },
  {
   "cell_type": "markdown",
   "metadata": {},
   "source": [
    "<h3>Pure functions,     ##which have no side effects<br>\n",
    "Anonymous functions,   ##ex:lambda<br>\n",
    "Recursive functions,    ##factorial<br>\n",
    "First class functions,    ##f(max, 1, 2, 4, 8, 16)  ,syntax:def f(function, *arguments):<br>\n",
    "Immutable data types.</h3>"
   ]
  },
  {
   "cell_type": "markdown",
   "metadata": {},
   "source": [
    "<h3>Some important concepts that we dont have in our syllabus<br>\n",
    "mapping,<br>\n",
    "filtering,<br>\n",
    "reducing.</h3>"
   ]
  },
  {
   "cell_type": "markdown",
   "metadata": {},
   "source": [
    "<h3>What is Functional Programming?<br>\n",
    "    Programming with functions where functions can be passed, stored, and returned. </h3>"
   ]
  },
  {
   "cell_type": "markdown",
   "metadata": {},
   "source": [
    "<h3>Functional Programming decomposes a problem into a set of functions.</h3>"
   ]
  },
  {
   "cell_type": "markdown",
   "metadata": {},
   "source": [
    "<h3>The gist of Functional Programming is that every function is understood solely in terms of its inputs and its outputs.</h3>"
   ]
  },
  {
   "cell_type": "markdown",
   "metadata": {},
   "source": [
    "<h2>Python Lambda</h2>"
   ]
  },
  {
   "cell_type": "code",
   "execution_count": 3,
   "metadata": {},
   "outputs": [
    {
     "data": {
      "text/plain": [
       "108"
      ]
     },
     "execution_count": 3,
     "metadata": {},
     "output_type": "execute_result"
    }
   ],
   "source": [
    "addition_operation = lambda a, b: a + b    #do this\n",
    " \n",
    "addition_operation(100, 8)\n",
    " "
   ]
  },
  {
   "cell_type": "markdown",
   "metadata": {},
   "source": [
    "<h3>Here no need to return a+b , It is done implicitly</h3>"
   ]
  },
  {
   "cell_type": "code",
   "execution_count": 4,
   "metadata": {},
   "outputs": [
    {
     "data": {
      "text/plain": [
       "25"
      ]
     },
     "execution_count": 4,
     "metadata": {},
     "output_type": "execute_result"
    }
   ],
   "source": [
    "square = lambda n : n*n\n",
    "\n",
    "num = square(5)\n",
    "\n",
    "num"
   ]
  },
  {
   "cell_type": "code",
   "execution_count": 5,
   "metadata": {},
   "outputs": [
    {
     "data": {
      "text/plain": [
       "[(2, 2), (1, 7), (4, 2), (3, 3), (5, 2)]"
      ]
     },
     "execution_count": 5,
     "metadata": {},
     "output_type": "execute_result"
    }
   ],
   "source": [
    "p = [(3, 3), (4, 2), (2, 2), (5, 2), (1, 7)] \n",
    "\n",
    "q = sorted(p, key=lambda x: x[0]*x[1])\n",
    "\n",
    "q"
   ]
  },
  {
   "cell_type": "markdown",
   "metadata": {},
   "source": [
    "<h2>Python iterators</h2>"
   ]
  },
  {
   "cell_type": "markdown",
   "metadata": {},
   "source": [
    "<h3>Object that has iter() method that return iterator,whenever we use for loop for iterator next() function is automatically called</h3>"
   ]
  },
  {
   "cell_type": "code",
   "execution_count": 4,
   "metadata": {},
   "outputs": [
    {
     "data": {
      "text/plain": [
       "<str_iterator at 0x7f626b7ca3d0>"
      ]
     },
     "execution_count": 4,
     "metadata": {},
     "output_type": "execute_result"
    }
   ],
   "source": [
    "Student = \"Sudhamshu\"\n",
    " \n",
    "iter_object = iter(Student)\n",
    " \n",
    "iter_object"
   ]
  },
  {
   "cell_type": "code",
   "execution_count": 5,
   "metadata": {},
   "outputs": [],
   "source": [
    "lst = [1,2,3,4,5]\n",
    "\n",
    "obj = iter(lst)"
   ]
  },
  {
   "cell_type": "code",
   "execution_count": 6,
   "metadata": {},
   "outputs": [
    {
     "data": {
      "text/plain": [
       "str_iterator"
      ]
     },
     "execution_count": 6,
     "metadata": {},
     "output_type": "execute_result"
    }
   ],
   "source": [
    "type(iter_object)"
   ]
  },
  {
   "cell_type": "code",
   "execution_count": 7,
   "metadata": {},
   "outputs": [
    {
     "data": {
      "text/plain": [
       "list_iterator"
      ]
     },
     "execution_count": 7,
     "metadata": {},
     "output_type": "execute_result"
    }
   ],
   "source": [
    "type(obj)"
   ]
  },
  {
   "cell_type": "code",
   "execution_count": 6,
   "metadata": {},
   "outputs": [
    {
     "ename": "NameError",
     "evalue": "name 'iter_object' is not defined",
     "output_type": "error",
     "traceback": [
      "\u001b[0;31m---------------------------------------------------------------------------\u001b[0m",
      "\u001b[0;31mNameError\u001b[0m                                 Traceback (most recent call last)",
      "\u001b[0;32m<ipython-input-6-7f176ef0b991>\u001b[0m in \u001b[0;36m<module>\u001b[0;34m\u001b[0m\n\u001b[0;32m----> 1\u001b[0;31m \u001b[0mnext\u001b[0m\u001b[0;34m(\u001b[0m\u001b[0miter_object\u001b[0m\u001b[0;34m)\u001b[0m\u001b[0;34m\u001b[0m\u001b[0;34m\u001b[0m\u001b[0m\n\u001b[0m",
      "\u001b[0;31mNameError\u001b[0m: name 'iter_object' is not defined"
     ]
    }
   ],
   "source": [
    "next(iter_object)"
   ]
  },
  {
   "cell_type": "code",
   "execution_count": 9,
   "metadata": {},
   "outputs": [
    {
     "name": "stdout",
     "output_type": "stream",
     "text": [
      "u\n",
      "d\n",
      "h\n",
      "a\n",
      "m\n",
      "s\n",
      "h\n",
      "u\n"
     ]
    }
   ],
   "source": [
    "for i in iter_object:\n",
    "    print(i)"
   ]
  },
  {
   "cell_type": "code",
   "execution_count": 10,
   "metadata": {},
   "outputs": [
    {
     "name": "stdout",
     "output_type": "stream",
     "text": [
      "1\n",
      "2\n",
      "3\n",
      "4\n",
      "5\n"
     ]
    }
   ],
   "source": [
    "for j in obj:\n",
    "    print(j)"
   ]
  },
  {
   "cell_type": "code",
   "execution_count": 11,
   "metadata": {},
   "outputs": [
    {
     "name": "stdout",
     "output_type": "stream",
     "text": [
      "a\n",
      "e\n",
      "i\n",
      "o\n",
      "u\n"
     ]
    }
   ],
   "source": [
    "# list of vowels\n",
    "vowels = ['a', 'e', 'i', 'o', 'u']\n",
    "vowels_iter = iter(vowels)\n",
    "\n",
    "print(next(vowels_iter))    # 'a'\n",
    "print(next(vowels_iter))    # 'e'\n",
    "print(next(vowels_iter))    # 'i'\n",
    "print(next(vowels_iter))    # 'o'\n",
    "print(next(vowels_iter))    # 'u'"
   ]
  },
  {
   "cell_type": "code",
   "execution_count": 12,
   "metadata": {},
   "outputs": [
    {
     "name": "stdout",
     "output_type": "stream",
     "text": [
      "1\n",
      "2\n",
      "3\n",
      "##########\n",
      "1\n",
      "2\n",
      "3\n"
     ]
    },
    {
     "ename": "StopIteration",
     "evalue": "",
     "output_type": "error",
     "traceback": [
      "\u001b[0;31m---------------------------------------------------------------------------\u001b[0m",
      "\u001b[0;31mStopIteration\u001b[0m                             Traceback (most recent call last)",
      "\u001b[0;32m<ipython-input-12-8340526832bc>\u001b[0m in \u001b[0;36m<module>\u001b[0;34m\u001b[0m\n\u001b[1;32m     28\u001b[0m \u001b[0;34m\u001b[0m\u001b[0m\n\u001b[1;32m     29\u001b[0m \u001b[0;31m# raises StopIteration\u001b[0m\u001b[0;34m\u001b[0m\u001b[0;34m\u001b[0m\u001b[0;34m\u001b[0m\u001b[0m\n\u001b[0;32m---> 30\u001b[0;31m \u001b[0mprint\u001b[0m\u001b[0;34m(\u001b[0m\u001b[0mnext\u001b[0m\u001b[0;34m(\u001b[0m\u001b[0mprint_num_iter\u001b[0m\u001b[0;34m)\u001b[0m\u001b[0;34m)\u001b[0m\u001b[0;34m\u001b[0m\u001b[0;34m\u001b[0m\u001b[0m\n\u001b[0m",
      "\u001b[0;32m<ipython-input-12-8340526832bc>\u001b[0m in \u001b[0;36m__next__\u001b[0;34m(self)\u001b[0m\n\u001b[1;32m     10\u001b[0m     \u001b[0;32mdef\u001b[0m \u001b[0m__next__\u001b[0m\u001b[0;34m(\u001b[0m\u001b[0mself\u001b[0m\u001b[0;34m)\u001b[0m\u001b[0;34m:\u001b[0m\u001b[0;34m\u001b[0m\u001b[0;34m\u001b[0m\u001b[0m\n\u001b[1;32m     11\u001b[0m         \u001b[0;32mif\u001b[0m\u001b[0;34m(\u001b[0m\u001b[0mself\u001b[0m\u001b[0;34m.\u001b[0m\u001b[0mnum\u001b[0m \u001b[0;34m>=\u001b[0m \u001b[0mself\u001b[0m\u001b[0;34m.\u001b[0m\u001b[0mmax\u001b[0m\u001b[0;34m)\u001b[0m\u001b[0;34m:\u001b[0m\u001b[0;34m\u001b[0m\u001b[0;34m\u001b[0m\u001b[0m\n\u001b[0;32m---> 12\u001b[0;31m             \u001b[0;32mraise\u001b[0m \u001b[0mStopIteration\u001b[0m\u001b[0;34m\u001b[0m\u001b[0;34m\u001b[0m\u001b[0m\n\u001b[0m\u001b[1;32m     13\u001b[0m         \u001b[0mself\u001b[0m\u001b[0;34m.\u001b[0m\u001b[0mnum\u001b[0m \u001b[0;34m+=\u001b[0m \u001b[0;36m1\u001b[0m\u001b[0;34m\u001b[0m\u001b[0;34m\u001b[0m\u001b[0m\n\u001b[1;32m     14\u001b[0m         \u001b[0;32mreturn\u001b[0m \u001b[0mself\u001b[0m\u001b[0;34m.\u001b[0m\u001b[0mnum\u001b[0m\u001b[0;34m\u001b[0m\u001b[0;34m\u001b[0m\u001b[0m\n",
      "\u001b[0;31mStopIteration\u001b[0m: "
     ]
    }
   ],
   "source": [
    "#iter() for custom objects\n",
    "class PrintNumber:\n",
    "    def __init__(self, max):\n",
    "        self.max = max\n",
    "\n",
    "    def __iter__(self):\n",
    "        self.num = 0\n",
    "        return self\n",
    "\n",
    "    def __next__(self):\n",
    "        if(self.num >= self.max):\n",
    "            raise StopIteration\n",
    "        self.num += 1\n",
    "        return self.num\n",
    "\n",
    "print_num = PrintNumber(3)\n",
    "\n",
    "print_num_iter = iter(print_num)\n",
    "print(next(print_num_iter))  # 1\n",
    "print(next(print_num_iter))  # 2\n",
    "print(next(print_num_iter))  # 3\n",
    "\n",
    "\n",
    "print(\"##########\")\n",
    "for i in print_num_iter:\n",
    "    print(i)\n",
    "    \n",
    "    \n",
    "# raises StopIteration\n",
    "print(next(print_num_iter))"
   ]
  },
  {
   "cell_type": "code",
   "execution_count": 31,
   "metadata": {},
   "outputs": [
    {
     "name": "stdout",
     "output_type": "stream",
     "text": [
      "2\n",
      "4\n",
      "8\n"
     ]
    }
   ],
   "source": [
    "#iter() with sentinel parameter\n",
    "class DoubleIt:\n",
    "\n",
    "    def __init__(self):\n",
    "        self.start = 1\n",
    "\n",
    "    def __iter__(self):\n",
    "        return self\n",
    "\n",
    "    def __next__(self):\n",
    "        self.start *= 2\n",
    "        return self.start\n",
    "\n",
    "    __call__ = __next__\n",
    "    \n",
    "my_iter = iter(DoubleIt(), 16)\n",
    "\n",
    "for x in my_iter:\n",
    "    print(x)"
   ]
  },
  {
   "cell_type": "markdown",
   "metadata": {},
   "source": [
    "<h2>Python Generators</h2>"
   ]
  },
  {
   "cell_type": "markdown",
   "metadata": {},
   "source": [
    "<h3>Generators are a special class of methods that simplify the task of writing iterators.</h3>"
   ]
  },
  {
   "cell_type": "markdown",
   "metadata": {},
   "source": [
    "<h4>Regular method compute a value and return it, but generators return an iterator that returns a stream of values.When you call a function, its local variables have their own scope. After the return statement is executed in a function, the local variables are destroyed and the value is returned to the caller. Later, a call to the same function creates a fresh set of local variables that have their own scope. However, what if the local variables were not thrown away on exiting a function? What if you could later resume the function from where it left off? This is what generators provide; they can be thought of as resumable functions.</h4>"
   ]
  },
  {
   "cell_type": "code",
   "execution_count": 32,
   "metadata": {},
   "outputs": [
    {
     "data": {
      "text/plain": [
       "<generator object generate_int at 0x7f6278037ed0>"
      ]
     },
     "execution_count": 32,
     "metadata": {},
     "output_type": "execute_result"
    }
   ],
   "source": [
    "def generate_int(N):\n",
    "    for i in range(N):\n",
    "        yield i    # any method containing yield is a generator \n",
    "a = generate_int(6)\n",
    "a"
   ]
  },
  {
   "cell_type": "code",
   "execution_count": 33,
   "metadata": {},
   "outputs": [
    {
     "data": {
      "text/plain": [
       "generator"
      ]
     },
     "execution_count": 33,
     "metadata": {},
     "output_type": "execute_result"
    }
   ],
   "source": [
    "type(a)"
   ]
  },
  {
   "cell_type": "code",
   "execution_count": 34,
   "metadata": {},
   "outputs": [
    {
     "data": {
      "text/plain": [
       "0"
      ]
     },
     "execution_count": 34,
     "metadata": {},
     "output_type": "execute_result"
    }
   ],
   "source": [
    "next(a)"
   ]
  },
  {
   "cell_type": "code",
   "execution_count": 35,
   "metadata": {},
   "outputs": [
    {
     "name": "stdout",
     "output_type": "stream",
     "text": [
      "1\n",
      "2\n",
      "3\n",
      "4\n",
      "5\n"
     ]
    }
   ],
   "source": [
    "for i in a:\n",
    "    print(i)"
   ]
  },
  {
   "cell_type": "markdown",
   "metadata": {},
   "source": [
    "<h4>Counter Function using generator</h4>"
   ]
  },
  {
   "cell_type": "code",
   "execution_count": 36,
   "metadata": {},
   "outputs": [],
   "source": [
    "def counter(maximum):\n",
    "    i = 0\n",
    "    while i < maximum:\n",
    "        val = (yield i)\n",
    "        # If value provided, change counter\n",
    "        if val is not None:\n",
    "            i = val\n",
    "        else:\n",
    "            i += 1"
   ]
  },
  {
   "cell_type": "code",
   "execution_count": 37,
   "metadata": {},
   "outputs": [],
   "source": [
    "it = counter(10)"
   ]
  },
  {
   "cell_type": "code",
   "execution_count": 38,
   "metadata": {},
   "outputs": [
    {
     "data": {
      "text/plain": [
       "0"
      ]
     },
     "execution_count": 38,
     "metadata": {},
     "output_type": "execute_result"
    }
   ],
   "source": [
    "next(it)"
   ]
  },
  {
   "cell_type": "code",
   "execution_count": 39,
   "metadata": {},
   "outputs": [
    {
     "data": {
      "text/plain": [
       "1"
      ]
     },
     "execution_count": 39,
     "metadata": {},
     "output_type": "execute_result"
    }
   ],
   "source": [
    "next(it)"
   ]
  },
  {
   "cell_type": "code",
   "execution_count": 40,
   "metadata": {},
   "outputs": [
    {
     "data": {
      "text/plain": [
       "8"
      ]
     },
     "execution_count": 40,
     "metadata": {},
     "output_type": "execute_result"
    }
   ],
   "source": [
    "it.send(8)"
   ]
  },
  {
   "cell_type": "code",
   "execution_count": 41,
   "metadata": {},
   "outputs": [
    {
     "data": {
      "text/plain": [
       "9"
      ]
     },
     "execution_count": 41,
     "metadata": {},
     "output_type": "execute_result"
    }
   ],
   "source": [
    "next(it)"
   ]
  },
  {
   "cell_type": "code",
   "execution_count": 42,
   "metadata": {},
   "outputs": [
    {
     "name": "stdout",
     "output_type": "stream",
     "text": [
      "(0, 'subject')\n",
      "(1, 'verb')\n",
      "(2, 'object')\n"
     ]
    }
   ],
   "source": [
    "for item in enumerate(['subject', 'verb', 'object']):\n",
    "    print(item)"
   ]
  },
  {
   "cell_type": "code",
   "execution_count": 43,
   "metadata": {},
   "outputs": [],
   "source": [
    "# A recursive generator that generates Tree leaves in in-order.\n",
    "def inorder(t):\n",
    "    if t:\n",
    "        for x in inorder(t.left):\n",
    "            yield x\n",
    "\n",
    "        yield t.label\n",
    "\n",
    "        for x in inorder(t.right):\n",
    "            yield x"
   ]
  },
  {
   "cell_type": "markdown",
   "metadata": {},
   "source": [
    "<h2>List Comprehensions</h2>"
   ]
  },
  {
   "cell_type": "markdown",
   "metadata": {},
   "source": [
    "<h4>List comprehensions provide a concise way to make lists. Common applications of list comprehensions are to create new lists where each element is the result of some operation applied to each member of another sequence or iterable or to create a subsequence of those items that satisfy a certain condition.</h4>"
   ]
  },
  {
   "cell_type": "markdown",
   "metadata": {},
   "source": [
    "<h3>list_variable = [variable[expression] for variable in input [predicate]]</h3>"
   ]
  },
  {
   "cell_type": "code",
   "execution_count": 44,
   "metadata": {},
   "outputs": [
    {
     "data": {
      "text/plain": [
       "['S', 'u', 'd', 'h', 'a', 'm', 's', 'h', 'u']"
      ]
     },
     "execution_count": 44,
     "metadata": {},
     "output_type": "execute_result"
    }
   ],
   "source": [
    "#Noramal method\n",
    "list = []\n",
    "for i in 'Sudhamshu':\n",
    "    list.append(i)\n",
    "list"
   ]
  },
  {
   "cell_type": "code",
   "execution_count": 45,
   "metadata": {},
   "outputs": [
    {
     "data": {
      "text/plain": [
       "['S', 'u', 'd', 'h', 'a', 'm', 's', 'h', 'u']"
      ]
     },
     "execution_count": 45,
     "metadata": {},
     "output_type": "execute_result"
    }
   ],
   "source": [
    "list = [i for i in 'Sudhamshu']\n",
    "list"
   ]
  },
  {
   "cell_type": "code",
   "execution_count": 46,
   "metadata": {},
   "outputs": [
    {
     "data": {
      "text/plain": [
       "['s', 'u', 'd', 'h', 'a', 'm', 's', 'h', 'u']"
      ]
     },
     "execution_count": 46,
     "metadata": {},
     "output_type": "execute_result"
    }
   ],
   "source": [
    "list = [i.lower() for i in 'SUDHAMSHU']\n",
    "list"
   ]
  },
  {
   "cell_type": "code",
   "execution_count": 47,
   "metadata": {},
   "outputs": [
    {
     "data": {
      "text/plain": [
       "[0, 1, 4, 9, 16, 25, 36, 49, 64, 81, 100]"
      ]
     },
     "execution_count": 47,
     "metadata": {},
     "output_type": "execute_result"
    }
   ],
   "source": [
    "list = [pow(x,2) for x in range(11)]\n",
    "list"
   ]
  },
  {
   "cell_type": "code",
   "execution_count": 48,
   "metadata": {},
   "outputs": [
    {
     "name": "stdout",
     "output_type": "stream",
     "text": [
      "[0, 10, 20, 30, 40, 50, 60, 70, 80, 90]\n"
     ]
    }
   ],
   "source": [
    "#nested if using list comp\n",
    "num_list = [y for y in range(100) if y % 2 == 0 if y % 5 == 0]\n",
    "print(num_list)"
   ]
  },
  {
   "cell_type": "code",
   "execution_count": 49,
   "metadata": {},
   "outputs": [
    {
     "name": "stdout",
     "output_type": "stream",
     "text": [
      "[0, 2, 4, 6, 8, 10, 12, 14, 16, 18]\n"
     ]
    }
   ],
   "source": [
    "#numbers divisible by 2\n",
    "number_list = [ x for x in range(20) if x % 2 == 0]\n",
    "print(number_list)"
   ]
  },
  {
   "cell_type": "code",
   "execution_count": 50,
   "metadata": {},
   "outputs": [
    {
     "name": "stdout",
     "output_type": "stream",
     "text": [
      "['Even', 'Odd', 'Even', 'Odd', 'Even', 'Odd', 'Even', 'Odd', 'Even', 'Odd']\n"
     ]
    }
   ],
   "source": [
    "#if else with list comp\n",
    "obj = [\"Even\" if i%2==0 else \"Odd\" for i in range(10)]\n",
    "print(obj)"
   ]
  },
  {
   "cell_type": "code",
   "execution_count": 51,
   "metadata": {},
   "outputs": [
    {
     "name": "stdout",
     "output_type": "stream",
     "text": [
      "[[1, 3, 5, 7], [2, 4, 6, 8]]\n"
     ]
    }
   ],
   "source": [
    "# without using list comp..... transpose of matrix\n",
    "transposed = []\n",
    "matrix = [[1, 2], [3,4], [5,6], [7,8]]\n",
    "\n",
    "for i in range(len(matrix[0])):\n",
    "    transposed_row = []\n",
    "\n",
    "    for row in matrix:\n",
    "        transposed_row.append(row[i])\n",
    "    transposed.append(transposed_row)\n",
    "\n",
    "print(transposed)"
   ]
  },
  {
   "cell_type": "code",
   "execution_count": 52,
   "metadata": {},
   "outputs": [
    {
     "name": "stdout",
     "output_type": "stream",
     "text": [
      "[[1, 3, 5, 7], [2, 4, 6, 8]]\n"
     ]
    }
   ],
   "source": [
    "#transpose of a matrix using list comp\n",
    "matrix = [[1, 2], [3,4], [5,6], [7,8]]\n",
    "transpose = [[row[i] for row in matrix] for i in range(2)]\n",
    "print (transpose)"
   ]
  },
  {
   "cell_type": "code",
   "execution_count": 53,
   "metadata": {},
   "outputs": [
    {
     "name": "stdout",
     "output_type": "stream",
     "text": [
      "[1, 2, 3]\n"
     ]
    }
   ],
   "source": [
    "#Two lists are given, find the intersection of two lists(remove those elements from first list. list1:[1,2,3,4,5,6,7],set2:[4,5,6,7,8,9],intersection:[4,5,6,7],o/p:[1,2,3])\n",
    "list1 = [1,2,3,4,5,6,7]\n",
    "list2 = [4,5,6,7,8,9]\n",
    "intersection = [value for value in list1 if value not in list2]\n",
    "print(intersection)"
   ]
  },
  {
   "cell_type": "markdown",
   "metadata": {},
   "source": [
    "#################"
   ]
  },
  {
   "cell_type": "code",
   "execution_count": 54,
   "metadata": {},
   "outputs": [
    {
     "name": "stdout",
     "output_type": "stream",
     "text": [
      "[35]\n",
      "[27, 216, 729, 1728, 3375, 5832]\n"
     ]
    }
   ],
   "source": [
    "\n",
    "numbers = [13, 4, 18, 35]\n",
    "#  filter(lambda num: num % 5 == 0, numbers), we can do\n",
    "div_by_5 = [num for num in numbers if num % 5 == 0]\n",
    "\n",
    "print(div_by_5) # [35]\n",
    "\n",
    "# map(lambda num: num ** 3, filter(lambda num: num % 3 == 0, range(1, 21)))\n",
    "arbitrary_numbers = [num ** 3 for num in range(1, 21) if num % 3 == 0]\n",
    "print(arbitrary_numbers) # [27, 216, 729, 1728, 3375, 5832]"
   ]
  },
  {
   "cell_type": "code",
   "execution_count": 55,
   "metadata": {},
   "outputs": [
    {
     "name": "stdout",
     "output_type": "stream",
     "text": [
      "['Hi Sudhamshu', 'Hi Akash', 'Hi Vaishakh']\n"
     ]
    }
   ],
   "source": [
    "names = ['Sudhamshu', 'Akash', 'Vaishakh']\n",
    "greeted_names = ['Hi ' + name for name in names]\n",
    "\n",
    "print(greeted_names)"
   ]
  },
  {
   "cell_type": "markdown",
   "metadata": {},
   "source": [
    "<h3>#######################################</h3>"
   ]
  },
  {
   "cell_type": "markdown",
   "metadata": {},
   "source": [
    "<h3>Map Function</h3>"
   ]
  },
  {
   "cell_type": "code",
   "execution_count": 56,
   "metadata": {},
   "outputs": [
    {
     "name": "stdout",
     "output_type": "stream",
     "text": [
      "<map object at 0x7f626ae80850>\n"
     ]
    }
   ],
   "source": [
    "lengths = map(len, [\"Sudhamshu\", \"Akash\", \"Vaishakh\"])\n",
    "print(lengths)   "
   ]
  },
  {
   "cell_type": "code",
   "execution_count": 57,
   "metadata": {},
   "outputs": [
    {
     "data": {
      "text/plain": [
       "9"
      ]
     },
     "execution_count": 57,
     "metadata": {},
     "output_type": "execute_result"
    }
   ],
   "source": [
    "next(lengths)"
   ]
  },
  {
   "cell_type": "markdown",
   "metadata": {},
   "source": [
    "<h3>Filter Function</h3>"
   ]
  },
  {
   "cell_type": "code",
   "execution_count": 58,
   "metadata": {},
   "outputs": [
    {
     "data": {
      "text/plain": [
       "[5, 6]"
      ]
     },
     "execution_count": 58,
     "metadata": {},
     "output_type": "execute_result"
    }
   ],
   "source": [
    "arr=[1,2,3,4,5,6]\n",
    "[i for i in filter(lambda x:x>4,arr)]"
   ]
  },
  {
   "cell_type": "markdown",
   "metadata": {},
   "source": [
    "<h3>Map with Lamda</h3>"
   ]
  },
  {
   "cell_type": "code",
   "execution_count": 59,
   "metadata": {},
   "outputs": [
    {
     "data": {
      "text/plain": [
       "<map at 0x7f626ae81c10>"
      ]
     },
     "execution_count": 59,
     "metadata": {},
     "output_type": "execute_result"
    }
   ],
   "source": [
    "# without lambda\n",
    "def double(n):\n",
    "  return n * 2\n",
    "\n",
    "myList = [10, 25, 17, 9, 30, -5]\n",
    "\n",
    "myList2 = map(double, myList)\n",
    "myList2"
   ]
  },
  {
   "cell_type": "code",
   "execution_count": 60,
   "metadata": {},
   "outputs": [
    {
     "name": "stdout",
     "output_type": "stream",
     "text": [
      "20\n",
      "50\n",
      "34\n",
      "18\n",
      "60\n",
      "-10\n"
     ]
    }
   ],
   "source": [
    "for i in myList2:\n",
    "    print(i)"
   ]
  },
  {
   "cell_type": "code",
   "execution_count": 61,
   "metadata": {},
   "outputs": [
    {
     "data": {
      "text/plain": [
       "<map at 0x7f626aeb4c90>"
      ]
     },
     "execution_count": 61,
     "metadata": {},
     "output_type": "execute_result"
    }
   ],
   "source": [
    "# with lambda\n",
    "myList = [10, 25, 17, 9, 30, -5]\n",
    "# Double the value of each element\n",
    "myList2 = map(lambda n : n*2, myList)\n",
    "myList2"
   ]
  },
  {
   "cell_type": "code",
   "execution_count": 62,
   "metadata": {},
   "outputs": [
    {
     "data": {
      "text/plain": [
       "20"
      ]
     },
     "execution_count": 62,
     "metadata": {},
     "output_type": "execute_result"
    }
   ],
   "source": [
    "next(myList2)"
   ]
  },
  {
   "cell_type": "code",
   "execution_count": 63,
   "metadata": {},
   "outputs": [
    {
     "name": "stdout",
     "output_type": "stream",
     "text": [
      "50\n",
      "34\n",
      "18\n",
      "60\n",
      "-10\n"
     ]
    }
   ],
   "source": [
    "for i in myList2:\n",
    "    print(i)"
   ]
  },
  {
   "cell_type": "markdown",
   "metadata": {},
   "source": [
    "<h3>Lambda with Filter</h3>"
   ]
  },
  {
   "cell_type": "code",
   "execution_count": 64,
   "metadata": {},
   "outputs": [
    {
     "data": {
      "text/plain": [
       "<filter at 0x7f626aeafb10>"
      ]
     },
     "execution_count": 64,
     "metadata": {},
     "output_type": "execute_result"
    }
   ],
   "source": [
    "# without lambda\n",
    "def multipleOf5(n):\n",
    "  if(n % 5 == 0):\n",
    "    return n\n",
    "\n",
    "myList = [10, 25, 17, 9, 30, -5]\n",
    "\n",
    "myList2 = filter(multipleOf5, myList)\n",
    "myList2"
   ]
  },
  {
   "cell_type": "code",
   "execution_count": 65,
   "metadata": {},
   "outputs": [
    {
     "name": "stdout",
     "output_type": "stream",
     "text": [
      "10\n",
      "25\n",
      "30\n",
      "-5\n"
     ]
    }
   ],
   "source": [
    "for i in myList2:\n",
    "    print(i)"
   ]
  },
  {
   "cell_type": "code",
   "execution_count": 66,
   "metadata": {},
   "outputs": [
    {
     "data": {
      "text/plain": [
       "<filter at 0x7f626aeaee90>"
      ]
     },
     "execution_count": 66,
     "metadata": {},
     "output_type": "execute_result"
    }
   ],
   "source": [
    "# with lambda\n",
    "myList = [10, 25, 17, 9, 30, -5]\n",
    "# Filters the elements which are not multiples of 5\n",
    "myList2 = filter(lambda n : n%5 == 0, myList)\n",
    "myList2"
   ]
  },
  {
   "cell_type": "code",
   "execution_count": 67,
   "metadata": {},
   "outputs": [
    {
     "name": "stdout",
     "output_type": "stream",
     "text": [
      "10\n",
      "25\n",
      "30\n",
      "-5\n"
     ]
    }
   ],
   "source": [
    "for i in myList2:\n",
    "    print(i)"
   ]
  },
  {
   "cell_type": "markdown",
   "metadata": {},
   "source": [
    "<h3>Reduce</h3>"
   ]
  },
  {
   "cell_type": "code",
   "execution_count": 68,
   "metadata": {},
   "outputs": [
    {
     "name": "stdout",
     "output_type": "stream",
     "text": [
      "10\n"
     ]
    }
   ],
   "source": [
    "from functools import reduce\n",
    "\n",
    "values = [1, 2, 3, 4]\n",
    "\n",
    "summed = reduce(lambda a, b: a + b, values)\n",
    "print(summed)"
   ]
  },
  {
   "cell_type": "markdown",
   "metadata": {},
   "source": [
    "<h2>Performance Tests</h2>"
   ]
  },
  {
   "cell_type": "code",
   "execution_count": 69,
   "metadata": {},
   "outputs": [],
   "source": [
    "from timeit import timeit"
   ]
  },
  {
   "cell_type": "markdown",
   "metadata": {},
   "source": [
    "<h3>Performance Test for map and iter()</h3>"
   ]
  },
  {
   "cell_type": "code",
   "execution_count": 70,
   "metadata": {},
   "outputs": [
    {
     "name": "stdout",
     "output_type": "stream",
     "text": [
      "Iter: 1.0154566098935902\n",
      " Map: 0.8073381423018873\n",
      "\n",
      "Iteration tests\n",
      "22.9 µs ± 624 ns per loop (mean ± std. dev. of 7 runs, 10000 loops each)\n",
      "214 µs ± 5.94 µs per loop (mean ± std. dev. of 7 runs, 1000 loops each)\n",
      "2.18 ms ± 93.2 µs per loop (mean ± std. dev. of 7 runs, 100 loops each)\n",
      "\n",
      "Map tests\n",
      "20.1 µs ± 584 ns per loop (mean ± std. dev. of 7 runs, 10000 loops each)\n",
      "183 µs ± 4.39 µs per loop (mean ± std. dev. of 7 runs, 10000 loops each)\n",
      "1.92 ms ± 55.1 µs per loop (mean ± std. dev. of 7 runs, 1000 loops each)\n"
     ]
    }
   ],
   "source": [
    "# Iteration using list comprhension\n",
    "time_iter1 = timeit('\"-\".join([str(n) for n in range(500)])', number=10000)\n",
    "\n",
    "# Using map function\n",
    "time_map1 = timeit('\"-\".join(map(str, range(500)))',number=10000)\n",
    "\n",
    "# Print results\n",
    "print('Iter: {}'.format(time_iter1))\n",
    "print(' Map: {}'.format(time_map1))\n",
    "\n",
    "print(\"\\nIteration tests\")\n",
    "%timeit \"-\".join([str(n) for n in range(100)])\n",
    "%timeit \"-\".join([str(n) for n in range(1000)])\n",
    "%timeit \"-\".join([str(n) for n in range(10000)])\n",
    "\n",
    "\n",
    "print(\"\\nMap tests\")\n",
    "%timeit \"-\".join(map(str, range(100)))\n",
    "%timeit \"-\".join(map(str, range(1000)))\n",
    "%timeit \"-\".join(map(str, range(10000)))"
   ]
  },
  {
   "cell_type": "markdown",
   "metadata": {},
   "source": [
    "<h3>Performance Test for lambda and iter()</h3>"
   ]
  },
  {
   "cell_type": "code",
   "execution_count": 71,
   "metadata": {},
   "outputs": [
    {
     "name": "stdout",
     "output_type": "stream",
     "text": [
      "  Iter: 3.5663647172041237\n",
      "Filter: 0.004382561892271042\n",
      "\n",
      "Iteration tests\n",
      "7.47 µs ± 221 ns per loop (mean ± std. dev. of 7 runs, 100000 loops each)\n",
      "78.3 µs ± 2.59 µs per loop (mean ± std. dev. of 7 runs, 10000 loops each)\n",
      "696 µs ± 14.2 µs per loop (mean ± std. dev. of 7 runs, 1000 loops each)\n",
      "\n",
      "Filter tests\n",
      "389 ns ± 8.5 ns per loop (mean ± std. dev. of 7 runs, 1000000 loops each)\n",
      "476 ns ± 22.4 ns per loop (mean ± std. dev. of 7 runs, 1000000 loops each)\n",
      "450 ns ± 25.4 ns per loop (mean ± std. dev. of 7 runs, 1000000 loops each)\n"
     ]
    }
   ],
   "source": [
    "# Iteration using list comprhension\n",
    "time_iter = timeit('[c for c in range(5000) if c % 2 ==0]', \n",
    "                           number=10000)\n",
    "\n",
    "# Using filter function\n",
    "time_filter = timeit('filter(lambda x: x % 2 == 0, range(5000))',\n",
    "                          number=10000)\n",
    "\n",
    "# Print results\n",
    "print('  Iter: {}'.format(time_iter))\n",
    "print('Filter: {}'.format(time_filter))\n",
    "\n",
    "print(\"\\nIteration tests\")\n",
    "%timeit [c for c in range(100) if c % 2 ==0]\n",
    "%timeit [c for c in range(1000) if c % 2 ==0]\n",
    "%timeit [c for c in range(10000) if c % 2 ==0]\n",
    "\n",
    "\n",
    "print(\"\\nFilter tests\")\n",
    "%timeit filter(lambda x: x % 2 == 0, range(100))\n",
    "%timeit filter(lambda x: x % 2 == 0, range(1000))\n",
    "%timeit filter(lambda x: x % 2 == 0, range(10000))"
   ]
  },
  {
   "cell_type": "markdown",
   "metadata": {},
   "source": [
    "<h3>Performance Test for reduce and iter()</h3>"
   ]
  },
  {
   "cell_type": "code",
   "execution_count": 72,
   "metadata": {},
   "outputs": [
    {
     "name": "stdout",
     "output_type": "stream",
     "text": [
      "  Iter: 0.5114002809859812\n",
      "Reduce: 0.9710248718038201\n",
      "\n",
      "Iteration tests\n",
      "5.79 µs ± 102 ns per loop (mean ± std. dev. of 7 runs, 100000 loops each)\n",
      "48 µs ± 301 ns per loop (mean ± std. dev. of 7 runs, 10000 loops each)\n",
      "423 µs ± 18.9 µs per loop (mean ± std. dev. of 7 runs, 1000 loops each)\n",
      "\n",
      "Reduce tests\n",
      "9.46 µs ± 180 ns per loop (mean ± std. dev. of 7 runs, 100000 loops each)\n",
      "104 µs ± 2.88 µs per loop (mean ± std. dev. of 7 runs, 10000 loops each)\n",
      "1.04 ms ± 33.5 µs per loop (mean ± std. dev. of 7 runs, 1000 loops each)\n"
     ]
    }
   ],
   "source": [
    "# Iteration using list comprhension\n",
    "from functools import reduce\n",
    "\n",
    "time_iter = timeit('sum([c for c in range(1000) if c])', \n",
    "                           number=10000)\n",
    "\n",
    "# Using map function\n",
    "time_reduce = timeit('reduce(lambda a, b: a + b, range(1000))',\n",
    "                     'from functools import reduce', \n",
    "                     number=10000)\n",
    "\n",
    "# Print results\n",
    "print('  Iter: {}'.format(time_iter))\n",
    "print('Reduce: {}'.format(time_reduce))\n",
    "\n",
    "print(\"\\nIteration tests\")\n",
    "%timeit sum([c for c in range(100)])\n",
    "%timeit sum([c for c in range(1000)])\n",
    "%timeit sum([c for c in range(10000)])\n",
    "\n",
    "\n",
    "print(\"\\nReduce tests\")\n",
    "%timeit reduce(lambda a, b: a + b, range(100))\n",
    "%timeit reduce(lambda a, b: a + b, range(1000))\n",
    "%timeit reduce(lambda a, b: a + b, range(10000))"
   ]
  },
  {
   "cell_type": "markdown",
   "metadata": {},
   "source": [
    "<h3>Performance Test for Recursion and Iteration:Case:Factorial</h3>"
   ]
  },
  {
   "cell_type": "markdown",
   "metadata": {},
   "source": [
    "<h2>Iteration</h2>"
   ]
  },
  {
   "cell_type": "code",
   "execution_count": 73,
   "metadata": {},
   "outputs": [
    {
     "name": "stdout",
     "output_type": "stream",
     "text": [
      "3628800\n",
      "1.01 µs ± 33.2 ns per loop (mean ± std. dev. of 7 runs, 1000000 loops each)\n",
      "10.3 µs ± 337 ns per loop (mean ± std. dev. of 7 runs, 100000 loops each)\n",
      "305 µs ± 10.1 µs per loop (mean ± std. dev. of 7 runs, 1000 loops each)\n"
     ]
    }
   ],
   "source": [
    "def factorial_iter(n):\n",
    "    \"Iterative factorial function\"\n",
    "    assert isinstance(n, int) and n >= 1\n",
    "    product = 1\n",
    "    while n >= 1:\n",
    "        product *= n\n",
    "        n -= 1\n",
    "    return product\n",
    "\n",
    "print(factorial_iter(10))\n",
    "%timeit factorial_iter(10)\n",
    "%timeit factorial_iter(100)\n",
    "%timeit factorial_iter(1000)"
   ]
  },
  {
   "cell_type": "markdown",
   "metadata": {},
   "source": [
    "<h2>Recursion</h2>"
   ]
  },
  {
   "cell_type": "code",
   "execution_count": 74,
   "metadata": {},
   "outputs": [
    {
     "name": "stdout",
     "output_type": "stream",
     "text": [
      "3628800\n",
      "2.3 µs ± 18.5 ns per loop (mean ± std. dev. of 7 runs, 100000 loops each)\n",
      "27.4 µs ± 1.64 µs per loop (mean ± std. dev. of 7 runs, 10000 loops each)\n",
      "514 µs ± 33.6 µs per loop (mean ± std. dev. of 7 runs, 1000 loops each)\n"
     ]
    }
   ],
   "source": [
    "def factorial_recur(n):\n",
    "    \"Recursive factorial function\"\n",
    "    assert isinstance(n, int) and n >= 1\n",
    "    return 1 if n <= 1 else n* factorial_recur(n-1)\n",
    "\n",
    "print(factorial_recur(10))\n",
    "%timeit factorial_recur(10)\n",
    "%timeit factorial_recur(100)\n",
    "%timeit factorial_recur(1000)"
   ]
  },
  {
   "cell_type": "markdown",
   "metadata": {},
   "source": [
    "<h2>Higher order recursion</h2>"
   ]
  },
  {
   "cell_type": "code",
   "execution_count": 75,
   "metadata": {
    "scrolled": true
   },
   "outputs": [
    {
     "name": "stdout",
     "output_type": "stream",
     "text": [
      "3628800\n",
      "1.02 µs ± 20.1 ns per loop (mean ± std. dev. of 7 runs, 1000000 loops each)\n",
      "8.95 µs ± 457 ns per loop (mean ± std. dev. of 7 runs, 100000 loops each)\n",
      "257 µs ± 8.83 µs per loop (mean ± std. dev. of 7 runs, 1000 loops each)\n"
     ]
    }
   ],
   "source": [
    "from functools import reduce\n",
    "from operator import mul\n",
    "\n",
    "def factorial_HOF(n):\n",
    "    return reduce(mul, range(1, n+1), 1)\n",
    "\n",
    "print(factorial_HOF(10))\n",
    "%timeit factorial_HOF(10)\n",
    "%timeit factorial_HOF(100)\n",
    "%timeit factorial_HOF(1000)"
   ]
  },
  {
   "cell_type": "markdown",
   "metadata": {},
   "source": [
    "<h3>Why we need Functional Programming?<br>\n",
    "    they might be easier to comprehend, implement, test and debug,<br>\n",
    "they might be shorter and more concise (compare two programs for calculating the factorial above),<br>\n",
    "they might be less error-prone,<br>\n",
    "they are easier to work with when implementing parallel execution.</h3>"
   ]
  },
  {
   "cell_type": "markdown",
   "metadata": {},
   "source": [
    "<h2>FP use cases</h2>\n",
    "These days developers try to solve the problem of parallel processing and working with Big Data. By parallelizing the processing of these data you get the desired result quite fast. Plus, do not forget about decentralized (distributed) calculations like blockchain. Due to functional programming principles, the functional code is the most suitable for such computations. The use of all basic API techniques facilitates the parallel execution of the code and its support.\n",
    "\n",
    "In the beginning, functional programming was used only for solving specific problems. But now it is applied even in classic projects created by large IT companies."
   ]
  },
  {
   "cell_type": "markdown",
   "metadata": {},
   "source": [
    "<h2>Declarative vs Imperative</h2>\n",
    "The imperative approach follows the principle of workflow control and answers the question ‘how to do’.\n",
    "\n",
    "The declarative approach describes the data flow and answers the question ‘what to do’. In addition, the imperative code most often uses instructions (operators), and declarative relies more on expressions."
   ]
  },
  {
   "cell_type": "markdown",
   "metadata": {},
   "source": [
    "<h2>Advantages</h2>\n",
    "\n",
    "<b>-Functional programming is famous for its high-level abstractions that hide a large number of details of such routine operations like iterating. This makes the code shorter and, as a consequence, guarantees a smaller number of errors that can be tolerated.<br>\n",
    "-In the functional programming, there is a smaller number of language primitives. Well-known classes are not used in FP. Instead of creating a unique description of an object with operations in the form of methods, in functional programming, there are several basic language primitives that are well optimized inside.<br>\n",
    "-Due to the language and structures flexibility, as a functional programming developer, you can bring the language closer to the problem. And not vice versa. In addition, FP offers some new and interesting tools for solving complex tasks that OOP developers often neglect.<br>\n",
    "-Working with functional languages provides accurate and fast code writing, facilitates testing and debugging. You’re working with high-level programs, and the functions signatures are more informative.<br></b>"
   ]
  },
  {
   "cell_type": "markdown",
   "metadata": {},
   "source": [
    "<h3>Currying,partials and Closures</h3>"
   ]
  },
  {
   "cell_type": "code",
   "execution_count": 76,
   "metadata": {},
   "outputs": [],
   "source": [
    "#Closures\n",
    "def make_adder(n):\n",
    "    def adder(m):\n",
    "        return m + n\n",
    "    return adder\n",
    "\n",
    "# \"functional\"\n",
    "add5_f = make_adder(5)"
   ]
  },
  {
   "cell_type": "code",
   "execution_count": 77,
   "metadata": {},
   "outputs": [
    {
     "data": {
      "text/plain": [
       "(4, 4)"
      ]
     },
     "execution_count": 77,
     "metadata": {},
     "output_type": "execute_result"
    }
   ],
   "source": [
    "#Currying\n",
    "def compose(g, f):\n",
    "    def h(x):\n",
    "        return g(f(x))\n",
    "    return h\n",
    "####################################\n",
    "def add(x, y):\n",
    "    return x + y\n",
    "\n",
    "def inc(y):\n",
    "    # a specialized add\n",
    "    return add(1, y)\n",
    "\n",
    "add(1, 3), inc(3)"
   ]
  },
  {
   "cell_type": "code",
   "execution_count": 78,
   "metadata": {},
   "outputs": [
    {
     "data": {
      "text/plain": [
       "(4, 4)"
      ]
     },
     "execution_count": 78,
     "metadata": {},
     "output_type": "execute_result"
    }
   ],
   "source": [
    "#partial\n",
    "from functools import partial\n",
    "\n",
    "inc = partial(add, 1)\n",
    "\n",
    "add(1, 3), inc(3)"
   ]
  },
  {
   "cell_type": "markdown",
   "metadata": {},
   "source": [
    "<h2>Real World ,FP demistified</h2>\n",
    "<h3>Functors,Monad,Monoid,Semigroup</h3>"
   ]
  },
  {
   "cell_type": "markdown",
   "metadata": {},
   "source": [
    "<h3>Some other Functions we should learn<br>\n",
    "zip <br>\n",
    "range <br>\n",
    "filterfalse<br>\n",
    "zip_longest<br>\n",
    "accumulate <br>\n",
    "all<br>\n",
    "any<br>\n",
    "sorted<br>\n",
    "</h3>"
   ]
  },
  {
   "cell_type": "markdown",
   "metadata": {},
   "source": [
    "<h2>END</h2>"
   ]
  },
  {
   "cell_type": "code",
   "execution_count": null,
   "metadata": {},
   "outputs": [],
   "source": []
  }
 ],
 "metadata": {
  "kernelspec": {
   "display_name": "Python 3.7",
   "language": "python",
   "name": "python3"
  },
  "language_info": {
   "codemirror_mode": {
    "name": "ipython",
    "version": 3
   },
   "file_extension": ".py",
   "mimetype": "text/x-python",
   "name": "python",
   "nbconvert_exporter": "python",
   "pygments_lexer": "ipython3",
   "version": "3.7.9"
  }
 },
 "nbformat": 4,
 "nbformat_minor": 1
}
