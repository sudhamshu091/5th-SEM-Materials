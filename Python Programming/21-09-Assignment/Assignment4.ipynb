{
 "cells": [
  {
   "cell_type": "code",
   "execution_count": 1,
   "metadata": {},
   "outputs": [],
   "source": [
    "from termcolor import colored\n"
   ]
  },
  {
   "cell_type": "code",
   "execution_count": 2,
   "metadata": {},
   "outputs": [
    {
     "name": "stdout",
     "output_type": "stream",
     "text": [
      "\u001b[34mHello\u001b[0m \u001b[31mworld\u001b[0m\n"
     ]
    }
   ],
   "source": [
    "print( colored ('Hello', 'blue'), colored('world', 'red'))\n"
   ]
  },
  {
   "cell_type": "code",
   "execution_count": 3,
   "metadata": {},
   "outputs": [
    {
     "name": "stdout",
     "output_type": "stream",
     "text": [
      "  \u001b[31m*\u001b[0m \u001b[31m*\u001b[0m \u001b[31m*\u001b[0m \u001b[31m*\u001b[0m \u001b[31m*\u001b[0m       \u001b[31m*\u001b[0m \u001b[31m*\u001b[0m \u001b[31m*\u001b[0m \u001b[31m*\u001b[0m     \u001b[31m*\u001b[0m       \u001b[31m*\u001b[0m \u001b[31m*\u001b[0m \n",
      "\u001b[33m*\u001b[0m         \u001b[33m*\u001b[0m       \u001b[33m*\u001b[0m \u001b[33m*\u001b[0m     \u001b[33m*\u001b[0m   \u001b[33m*\u001b[0m       \u001b[33m*\u001b[0m \u001b[33m*\u001b[0m \n",
      "\u001b[34m*\u001b[0m         \u001b[34m*\u001b[0m       \u001b[34m*\u001b[0m \u001b[34m*\u001b[0m       \u001b[34m*\u001b[0m \u001b[34m*\u001b[0m       \u001b[34m*\u001b[0m \u001b[34m*\u001b[0m \n",
      "\u001b[32m*\u001b[0m \u001b[32m*\u001b[0m \u001b[32m*\u001b[0m \u001b[32m*\u001b[0m   \u001b[32m*\u001b[0m       \u001b[32m*\u001b[0m \u001b[32m*\u001b[0m       \u001b[32m*\u001b[0m \u001b[32m*\u001b[0m \u001b[32m*\u001b[0m \u001b[32m*\u001b[0m \u001b[32m*\u001b[0m \u001b[32m*\u001b[0m \u001b[32m*\u001b[0m \n",
      "        \u001b[33m*\u001b[0m \u001b[33m*\u001b[0m       \u001b[33m*\u001b[0m \u001b[33m*\u001b[0m       \u001b[33m*\u001b[0m \u001b[33m*\u001b[0m       \u001b[33m*\u001b[0m \u001b[33m*\u001b[0m \n",
      "        \u001b[32m*\u001b[0m \u001b[32m*\u001b[0m       \u001b[32m*\u001b[0m \u001b[32m*\u001b[0m     \u001b[32m*\u001b[0m   \u001b[32m*\u001b[0m       \u001b[32m*\u001b[0m \u001b[32m*\u001b[0m \n",
      "\u001b[31m*\u001b[0m \u001b[31m*\u001b[0m \u001b[31m*\u001b[0m \u001b[31m*\u001b[0m     \u001b[31m*\u001b[0m \u001b[31m*\u001b[0m \u001b[31m*\u001b[0m   \u001b[31m*\u001b[0m \u001b[31m*\u001b[0m \u001b[31m*\u001b[0m     \u001b[31m*\u001b[0m       \u001b[31m*\u001b[0m \u001b[31m*\u001b[0m \n"
     ]
    }
   ],
   "source": [
    "for row in range(7):\n",
    "    for col in range(21):\n",
    "        if row ==0 and col in {1,2,3,4,5,9,10,11,12,15,19,20}:\n",
    "            print(colored(\"*\",'red'),end = \" \")\n",
    "        elif row ==1 and col in {0,5,9,10,13,15,19,20}:\n",
    "            print(colored(\"*\",'yellow'),end = \" \")\n",
    "        elif row ==2 and col in {0,5,9,10,14,15,19,20}:\n",
    "            print(colored(\"*\",'blue'),end = \" \")\n",
    "        elif row ==3 and col in {0,1,2,3,5,9,10,14,15,16,17,18,19,20}:\n",
    "            print(colored(\"*\",'green'),end = \" \")\n",
    "        elif row ==4 and col in {4,5,9,10,14,15,19,20}:\n",
    "            print(colored(\"*\",'yellow'),end = \" \")\n",
    "        elif row ==5 and col in {4,5,9,10,13,15,19,20}:\n",
    "            print(colored(\"*\",'green'),end = \" \")\n",
    "        elif row ==6 and col in {0,1,2,3,6,7,8,10,11,12,15,19,20}:\n",
    "            print(colored(\"*\",'red'),end = \" \")\n",
    "        else:\n",
    "            print(\" \",end = \" \")\n",
    "    print()"
   ]
  },
  {
   "cell_type": "markdown",
   "metadata": {},
   "source": [
    "<h1>By Sudhamshu B N</h1>"
   ]
  }
 ],
 "metadata": {
  "kernelspec": {
   "display_name": "Python 3.6",
   "language": "python",
   "name": "python3"
  },
  "language_info": {
   "codemirror_mode": {
    "name": "ipython",
    "version": 3
   },
   "file_extension": ".py",
   "mimetype": "text/x-python",
   "name": "python",
   "nbconvert_exporter": "python",
   "pygments_lexer": "ipython3",
   "version": "3.6.9"
  }
 },
 "nbformat": 4,
 "nbformat_minor": 1
}
